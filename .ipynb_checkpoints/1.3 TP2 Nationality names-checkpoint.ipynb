{
 "cells": [
  {
   "cell_type": "code",
   "execution_count": 34,
   "metadata": {},
   "outputs": [
    {
     "name": "stdout",
     "output_type": "stream",
     "text": [
      "['Marie', 'Thomas', 'Léa', 'Nicolas', 'Camille', 'maxime', 'Manon', 'Quentin', 'chloé', 'Alexandre', 'Julie', 'julien', 'Sarah', 'Antoine', 'Laura', 'kevin', 'Pauline', 'Clément', 'Mathilde', 'Lucas', 'marine', 'romain', 'Emma', 'pierre', 'Lucie', 'Florian', 'Anaïs', 'Valentin', 'Marion', 'guillaume', 'océane', 'Hugo', 'Justine', 'Théo', 'Clara', 'anthony', 'Morgane', 'Jeremy', 'Lisa', 'alexis', 'Charlotte', 'Paul', 'Juliette', 'Adrien', 'émilie', 'benjamin', 'Melanie', 'Mathieu', 'Inès', 'vincent', 'elodie', 'Arthur', 'Louise', 'Alex', 'Claire', 'Louis', 'Amandine', 'baptiste', 'Margaux', 'Dylan', 'Noémie', 'Nathan', 'Alice', 'Corentin', 'Audrey', 'léo', 'Clémence', 'Axel', 'Maëva', 'Thibault', 'Eva', 'Simon', 'Mélissa', 'Jordan', 'Amélie', 'Matthieu', 'Caroline', 'enzo', 'celia', 'Rémi', 'Elise', 'tom', 'Celine', 'Aurélien', 'Margot', 'Victor', 'elisa', 'loic', 'Jade', 'Sébastien', 'fanny', 'Raphaël', 'Sophie', 'David', 'Romane', 'Arnaud', 'Aurélie', 'Damien', 'Jeanne', 'Bastien', 'Lola', 'Jonathan', 'Estelle', 'Gabriel', 'Ophélie', 'Mickael', 'Laurine', 'François', 'Valentine', 'mathis', 'Alexandra', 'robin', 'laetitia', 'Martin', 'Solène', 'tristan', 'Zoé', 'Dorian', 'Coralie', 'Samuel', 'alicia', 'maxence', 'Agathe', 'Benoit', 'Alexia', 'thibaut', 'Anna', 'Fabien', 'Aurore', 'Jules', 'Julia', 'yanis', 'Lena', 'Florent', 'Cécile', 'charles', 'Lou', 'MARC', 'Emeline', 'Erwan', 'Elsa', 'Cedric', 'Laurie', 'Yann', 'Nina', 'gaetan', 'Maëlle', 'JEAN', 'Jessica', 'Jérôme', 'Coline', 'Cyril', 'Axelle', 'Max', 'Salomé', 'Steven', 'Lucile', 'Mehdi', 'Laure', 'remy', 'Andréa', 'William', 'Eloïse', 'Olivier', 'ambre', 'sylvain', 'Gaelle', 'Tony', 'Hélène', 'Morgan', 'clementine', 'Christopher', 'Charlène', 'mael', 'sara', 'Adam', 'carla', 'Laurent', 'Myriam', 'Tanguy', 'Victoria', 'xavier', 'Cassandra', 'Ludovic', 'Héloïse', 'Killian', 'marina', 'Stéphane', 'Cindy', 'dimitri', 'Ludivine', 'Antonin', 'Anaelle', 'mohamed', 'sabrina', 'Alan', 'sandra', 'Aymeric', 'Nolwenn', 'Christophe']\n"
     ]
    }
   ],
   "source": [
    "from bs4 import BeautifulSoup\n",
    "from selenium import webdriver\n",
    "from time import sleep\n",
    "\n",
    "browser = webdriver.Chrome()\n",
    "\n",
    "# Get 200 french names\n",
    "french_names = []\n",
    "browser.get(\"http://www.studentsoftheworld.info/penpals/stats_fr.php?Pays=FRA\")\n",
    "# TODO clean text\n",
    "french_names.extend([e.text for e in browser.find_elements_by_css_selector('td[bgcolor=\"#FAFAFF\"]')])\n",
    "sleep(1)\n",
    "print(french_names)"
   ]
  },
  {
   "cell_type": "code",
   "execution_count": 35,
   "metadata": {},
   "outputs": [
    {
     "name": "stdout",
     "output_type": "stream",
     "text": [
      "['Yuka', 'yuki', 'Kana', 'shun', 'yuri', 'Hiroki', 'Yuki', 'keita', 'Haruka', 'ren', 'saki', 'takumi', 'Yui', 'Naoki', 'shiori', 'KAZU', 'Rina', 'hiro', 'kaori', 'kazuki', 'Ayaka', 'Takuya', 'ayumi', 'shota', 'Miho', 'Ken', 'Chihiro', 'shinji', 'Natsumi', 'kouki', 'Mayu', 'MASA', 'minami', 'taka', 'aya', 'yuuki', 'risa', 'Yuta', 'sayaka', 'Yuma', 'Mai', 'tatsuya', 'Kanako', 'Kyohei', 'Moe', 'naoya', 'Miyu', 'Ryota', 'Mina', 'yusuke', 'Ayano', 'Kaito', 'Erika', 'Daiki', 'Mio', 'Kazuya', 'nana', 'Akira', 'Airi', 'Tom', 'Miki', 'Kento', 'yuna', 'Yu', 'Marina', 'Ryo', 'Yumi', 'yuto', 'Mari', 'Issei', 'rin', 'Daisuke', 'Anna', 'You', 'Mao', 'hikaru', 'Akari', 'Ryosuke', 'Mika', 'sho', 'mei', 'Kei', 'Aika', 'MAKOTO', 'eri', 'masaki', 'nao', 'shuto', 'Shiho', 'Brad', 'Ai', 'atsushi', 'asuka', 'kazuma', 'Aki', 'Toshi', 'Haruna', 'TAIYO', 'misaki', 'Nanami', 'Natsuki', 'Gaku', 'Narumi', 'shinya', 'aoi', 'Naoto', 'Saya', 'Evan', 'fuka', 'yoshiki', 'Sakura', 'taro', 'Rika', 'kenta', 'mami', 'wataru', 'Moeka', 'yuu', 'Arisa', 'kotaro', 'hana', 'shu', 'mizuki', 'Aki', 'Ayana', 'hajime', 'Rui', 'Jason', 'haru', 'ko', 'Chisato', 'jack', 'Nozomi', 'Yuya', 'Tomoko', 'Hiroaki', 'Momoko', 'shuhei', 'Asami', 'Haruki', 'Satomi', 'Alex', 'yu', 'haru', 'kaho', 'daichi', 'asumi', 'taichi', 'Misa', 'Junya', 'Manami', 'hayato', 'nagisa', 'takahiro', 'nanako', 'Jonathan', 'Megumi', 'Tim', 'Emi', 'Muneyuki', 'Kei', 'Kinzo', 'Hina', 'Motoi', 'Hiromi', 'taku', 'yoko', 'ruki', 'Meg', 'Jake', 'REI', 'sakura', 'sae', 'suguru', 'miwa', 'Shintaro', 'yukiko', 'keisuke', 'Suzu', 'Dylan', 'Keiko', 'Areshi', 'Aimi', 'Takaya', 'Miyuki', 'Takuto', 'Kay', 'dai', 'Kyoko', 'Ikuta', 'Akane', 'Takashi', 'YUME', 'kiyomori', 'Maria', 'Rio', 'Maya', 'Genki', 'chiharu', 'tatsuki']\n"
     ]
    }
   ],
   "source": [
    "# Get 200 japanese names\n",
    "jap_names = []\n",
    "browser.get(\"http://www.studentsoftheworld.info/penpals/stats_fr.php?Pays=JAP\")\n",
    "# TODO clean text\n",
    "jap_names.extend([e.text for e in browser.find_elements_by_css_selector('td[bgcolor=\"#FAFAFF\"]')])\n",
    "sleep(1)\n",
    "print(jap_names)\n"
   ]
  },
  {
   "cell_type": "code",
   "execution_count": 14,
   "metadata": {},
   "outputs": [],
   "source": [
    "import numpy as np\n",
    "\n",
    "# Transform to vector\n",
    "def to_vector(name):\n",
    "    return np.array([ord(l) for l in name.lower()])\n",
    "    \n",
    "french_names_vectors = [to_vector(name) for name in french_names]\n",
    "jap_names_vectors = [to_vector(name) for name in jap_names]"
   ]
  },
  {
   "cell_type": "code",
   "execution_count": 36,
   "metadata": {},
   "outputs": [],
   "source": [
    "PADDING_NUMBER = 0\n",
    "VECTOR_SIZE = 5\n",
    "# Transform to vector\n",
    "def to_formatted_vector(name):\n",
    "    vector = [ord(l) for l in name.lower()]\n",
    "    return np.array(vector[:VECTOR_SIZE]) if len(vector) >= VECTOR_SIZE else np.array(vector + [PADDING_NUMBER]*(VECTOR_SIZE-len(vector)))\n",
    "    \n",
    "french_names_vectors = np.array([to_formatted_vector(name) for name in french_names])\n",
    "jap_names_vectors = np.array([to_formatted_vector(name) for name in jap_names])"
   ]
  },
  {
   "cell_type": "code",
   "execution_count": 20,
   "metadata": {},
   "outputs": [
    {
     "data": {
      "text/plain": [
       "<matplotlib.axes._subplots.AxesSubplot at 0x1d5bba28f60>"
      ]
     },
     "execution_count": 20,
     "metadata": {},
     "output_type": "execute_result"
    },
    {
     "data": {
      "image/png": "[encoded data removed]",
      "text/plain": [
       "<Figure size 432x288 with 1 Axes>"
      ]
     },
     "metadata": {
      "needs_background": "light"
     },
     "output_type": "display_data"
    },
    {
     "data": {
      "image/png": "[encoded data removed]",
      "text/plain": [
       "<Figure size 432x288 with 1 Axes>"
      ]
     },
     "metadata": {
      "needs_background": "light"
     },
     "output_type": "display_data"
    }
   ],
   "source": [
    "import pandas as pd\n",
    "\n",
    "df_french = pd.DataFrame(french_names_vectors)\n",
    "df_jap = pd.DataFrame(jap_names_vectors)\n",
    "\n",
    "df_french.plot.scatter(1,2, color=\"r\")\n",
    "df_french.plot.scatter(1,2, color=\"b\")\n"
   ]
  },
  {
   "cell_type": "code",
   "execution_count": 45,
   "metadata": {},
   "outputs": [
    {
     "name": "stderr",
     "output_type": "stream",
     "text": [
      "C:\\Users\\miguel\\Anaconda3\\lib\\site-packages\\sklearn\\svm\\base.py:193: FutureWarning: The default value of gamma will change from 'auto' to 'scale' in version 0.22 to account better for unscaled features. Set gamma explicitly to 'auto' or 'scale' to avoid this warning.\n",
      "  \"avoid this warning.\", FutureWarning)\n"
     ]
    },
    {
     "data": {
      "text/plain": [
       "SVC(C=1.0, cache_size=200, class_weight=None, coef0=0.0,\n",
       "    decision_function_shape='ovr', degree=3, gamma='auto_deprecated',\n",
       "    kernel='rbf', max_iter=-1, probability=False, random_state=None,\n",
       "    shrinking=True, tol=0.001, verbose=False)"
      ]
     },
     "execution_count": 45,
     "metadata": {},
     "output_type": "execute_result"
    }
   ],
   "source": [
    "from sklearn.svm import SVC\n",
    "\n",
    "HALF_TRAINING_SET_SIZE = 120\n",
    "train_samples = np.concatenate((french_names_vectors[:HALF_TRAINING_SET_SIZE], jap_names_vectors[:HALF_TRAINING_SET_SIZE]))\n",
    "train_targets = np.array([0]*HALF_TRAINING_SET_SIZE + [1]*HALF_TRAINING_SET_SIZE)\n",
    "\n",
    "test_samples = np.concatenate((french_names_vectors[HALF_TRAINING_SET_SIZE:], jap_names_vectors[HALF_TRAINING_SET_SIZE:]))\n",
    "test_targets = np.array([0]*(test_samples.shape[0] // 2) + [1]*(test_samples.shape[0] // 2))\n",
    "\n",
    "cls = SVC()\n",
    "cls.fit(train_samples, train_targets)\n"
   ]
  },
  {
   "cell_type": "code",
   "execution_count": 46,
   "metadata": {},
   "outputs": [
    {
     "data": {
      "text/plain": [
       "0.55"
      ]
     },
     "execution_count": 46,
     "metadata": {},
     "output_type": "execute_result"
    }
   ],
   "source": [
    "cls.score(test_samples, test_targets)"
   ]
  },
  {
   "cell_type": "code",
   "execution_count": null,
   "metadata": {},
   "outputs": [],
   "source": []
  }
 ],
 "metadata": {
  "kernelspec": {
   "display_name": "Python 3",
   "language": "python",
   "name": "python3"
  },
  "language_info": {
   "codemirror_mode": {
    "name": "ipython",
    "version": 3
   },
   "file_extension": ".py",
   "mimetype": "text/x-python",
   "name": "python",
   "nbconvert_exporter": "python",
   "pygments_lexer": "ipython3",
   "version": "3.7.3"
  }
 },
 "nbformat": 4,
 "nbformat_minor": 2
}
